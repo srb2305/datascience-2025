{
 "cells": [
  {
   "cell_type": "markdown",
   "metadata": {},
   "source": [
    "<B>Variable declaration in Python"
   ]
  },
  {
   "cell_type": "code",
   "execution_count": 1,
   "metadata": {},
   "outputs": [
    {
     "name": "stdout",
     "output_type": "stream",
     "text": [
      "RR 48 168.6 True\n"
     ]
    }
   ],
   "source": [
    "name= \"RR\"\n",
    "age=48\n",
    "height=168.6\n",
    "is_student= True\n",
    "\n",
    "print(name, age, height, is_student)"
   ]
  },
  {
   "cell_type": "code",
   "execution_count": 4,
   "metadata": {},
   "outputs": [
    {
     "name": "stdout",
     "output_type": "stream",
     "text": [
      "<class 'bool'>\n"
     ]
    }
   ],
   "source": [
    "print(type(is_student))"
   ]
  },
  {
   "cell_type": "markdown",
   "metadata": {},
   "source": [
    "<B> Arithmetic Operations"
   ]
  },
  {
   "cell_type": "code",
   "execution_count": 9,
   "metadata": {},
   "outputs": [
    {
     "name": "stdout",
     "output_type": "stream",
     "text": [
      "5.0\n",
      "12\n",
      "0\n",
      "5\n",
      "8\n",
      "100\n"
     ]
    }
   ],
   "source": [
    "a=10\n",
    "b=2\n",
    "\n",
    "print(a/b)\n",
    "print(a+b)\n",
    "print(a%2)\n",
    "print(a//b)\n",
    "print(a-b)\n",
    "print(a**b)"
   ]
  },
  {
   "cell_type": "markdown",
   "metadata": {},
   "source": [
    "<B> Logical Operators"
   ]
  },
  {
   "cell_type": "code",
   "execution_count": 14,
   "metadata": {},
   "outputs": [
    {
     "name": "stdout",
     "output_type": "stream",
     "text": [
      "False\n",
      "True\n",
      "False\n",
      "False\n"
     ]
    }
   ],
   "source": [
    "x=10\n",
    "y=20\n",
    "\n",
    "print(x==y)\n",
    "print(x!=y )\n",
    "print(x<y | x==y)\n",
    "print(x>y)"
   ]
  },
  {
   "cell_type": "code",
   "execution_count": 15,
   "metadata": {},
   "outputs": [
    {
     "name": "stdout",
     "output_type": "stream",
     "text": [
      "Enter your name Ruchira\n",
      "Ruchira\n"
     ]
    }
   ],
   "source": [
    "a= input(\"Enter your name \")\n",
    "print(a)"
   ]
  },
  {
   "cell_type": "code",
   "execution_count": 18,
   "metadata": {},
   "outputs": [
    {
     "name": "stdout",
     "output_type": "stream",
     "text": [
      "Not eligible to vote\n"
     ]
    }
   ],
   "source": [
    "age= 16\n",
    "\n",
    "if age < 18:\n",
    "    print(\"Not eligible to vote\")\n",
    "else:\n",
    "    print(\"Eligible to vote\")\n",
    "    \n"
   ]
  },
  {
   "cell_type": "code",
   "execution_count": 22,
   "metadata": {},
   "outputs": [
    {
     "name": "stdout",
     "output_type": "stream",
     "text": [
      "A\n"
     ]
    }
   ],
   "source": [
    "marks=87\n",
    "\n",
    "\n",
    "if marks > 80 and marks < 90:\n",
    "    print(\"A\")\n",
    "else:\n",
    "    print(\"B\")"
   ]
  },
  {
   "cell_type": "code",
   "execution_count": 34,
   "metadata": {},
   "outputs": [
    {
     "name": "stdout",
     "output_type": "stream",
     "text": [
      "2\n",
      "4\n",
      "6\n",
      "8\n",
      "10\n"
     ]
    }
   ],
   "source": [
    "for i in range(1,11):\n",
    "    if i%2==0:\n",
    "        print(i)\n",
    "   \n"
   ]
  },
  {
   "cell_type": "code",
   "execution_count": 40,
   "metadata": {},
   "outputs": [
    {
     "name": "stdout",
     "output_type": "stream",
     "text": [
      "0\n",
      "1\n",
      "2\n",
      "3\n",
      "4\n"
     ]
    }
   ],
   "source": [
    "for i in range(0,5):\n",
    "    print(i)"
   ]
  },
  {
   "cell_type": "code",
   "execution_count": 49,
   "metadata": {},
   "outputs": [
    {
     "name": "stdout",
     "output_type": "stream",
     "text": [
      "5\n"
     ]
    }
   ],
   "source": [
    "count=0\n",
    "for i in range(1,10,2):\n",
    "    count+=1\n",
    "\n",
    "    print(count)"
   ]
  },
  {
   "cell_type": "code",
   "execution_count": 53,
   "metadata": {},
   "outputs": [
    {
     "name": "stdout",
     "output_type": "stream",
     "text": [
      "Orange\n",
      "Grapes\n"
     ]
    }
   ],
   "source": [
    "fruits=[\"Apple\",\"Orange\",\"Guava\",\"Grapes\"]\n",
    "for index,fruit in enumerate(fruits):\n",
    "    if (index+1) % 2 == 0:\n",
    "        print(fruit)\n",
    "    "
   ]
  },
  {
   "cell_type": "markdown",
   "metadata": {},
   "source": [
    "## Let's try these patterns"
   ]
  },
  {
   "cell_type": "code",
   "execution_count": 4,
   "metadata": {},
   "outputs": [
    {
     "name": "stdout",
     "output_type": "stream",
     "text": [
      "*\n",
      "**\n",
      "***\n",
      "****\n",
      "*****\n"
     ]
    }
   ],
   "source": [
    "#right triangle\n",
    "row=5\n",
    "for i in range(1, row+1):\n",
    "    print(\"*\"*i)"
   ]
  },
  {
   "cell_type": "code",
   "execution_count": 7,
   "metadata": {},
   "outputs": [
    {
     "name": "stdout",
     "output_type": "stream",
     "text": [
      "*****\n",
      "****\n",
      "***\n",
      "**\n",
      "*\n"
     ]
    }
   ],
   "source": [
    "row=5\n",
    "for i in range(row,0,-1):\n",
    "    print(\"*\"*i)"
   ]
  },
  {
   "cell_type": "code",
   "execution_count": 5,
   "metadata": {},
   "outputs": [
    {
     "name": "stdout",
     "output_type": "stream",
     "text": [
      "\n",
      "*\n",
      "**\n",
      "***\n",
      "****\n",
      "*****\n"
     ]
    }
   ],
   "source": [
    "#right triangle\n",
    "row=5\n",
    "for i in range(0, row+1):\n",
    "    print(\"*\"*i)"
   ]
  },
  {
   "cell_type": "code",
   "execution_count": 4,
   "metadata": {},
   "outputs": [
    {
     "name": "stdout",
     "output_type": "stream",
     "text": [
      "*****\n",
      "****\n",
      "***\n",
      "**\n",
      "*\n"
     ]
    }
   ],
   "source": [
    "#inverted triangle\n",
    "\n",
    "#right triangle\n",
    "row=5\n",
    "for i in range(row,0, -1):\n",
    "    print(\"*\"*i)"
   ]
  },
  {
   "cell_type": "code",
   "execution_count": 5,
   "metadata": {},
   "outputs": [
    {
     "name": "stdout",
     "output_type": "stream",
     "text": [
      "        * \n",
      "      * * \n",
      "    * * * \n",
      "  * * * * \n",
      "* * * * * \n"
     ]
    }
   ],
   "source": [
    "rows = 5\n",
    "\n",
    "for i in range(1, rows + 1):\n",
    "    print(\"  \" * (rows - i) + \"* \" * i)\n"
   ]
  },
  {
   "cell_type": "code",
   "execution_count": 9,
   "metadata": {},
   "outputs": [
    {
     "name": "stdout",
     "output_type": "stream",
     "text": [
      "    * \n",
      "   * * \n",
      "  * * * \n",
      " * * * * \n",
      "* * * * * \n"
     ]
    }
   ],
   "source": [
    "row=5\n",
    "for i in range(1, row+1):\n",
    "    print(\" \" * (row - i) + \"* \" * i)"
   ]
  },
  {
   "cell_type": "code",
   "execution_count": 8,
   "metadata": {},
   "outputs": [
    {
     "name": "stdout",
     "output_type": "stream",
     "text": [
      "    1 \n",
      "   1 2 \n",
      "  1 2 3 \n",
      " 1 2 3 4 \n",
      "1 2 3 4 5 \n"
     ]
    }
   ],
   "source": [
    "rows = 5\n",
    "\n",
    "for i in range(1, rows + 1):\n",
    "    line = \" \" * (rows - i)  # Spaces\n",
    "    for num in range(1, i + 1):\n",
    "        line += str(num) + \" \"\n",
    "    print(line)\n"
   ]
  },
  {
   "cell_type": "code",
   "execution_count": 11,
   "metadata": {},
   "outputs": [
    {
     "name": "stdout",
     "output_type": "stream",
     "text": [
      "    1 \n",
      "   1 2 \n",
      "  1 2 3 \n",
      " 1 2 3 4 \n",
      "1 2 3 4 5 \n"
     ]
    }
   ],
   "source": [
    "rows = 5\n",
    "\n",
    "for i in range(1, rows + 1):\n",
    "    line = \" \" *(rows - i)  # Spaces\n",
    "    for num in range(1, i + 1):\n",
    "        line += str(num) + \" \"\n",
    "    print(line)"
   ]
  },
  {
   "cell_type": "code",
   "execution_count": null,
   "metadata": {},
   "outputs": [],
   "source": [
    "5!\n",
    "5 x 4 x 3 x 2 x 1\n",
    "5 x 4! \n",
    "5 x 4 x 3!"
   ]
  },
  {
   "cell_type": "markdown",
   "metadata": {},
   "source": [
    "## Functions"
   ]
  },
  {
   "cell_type": "code",
   "execution_count": 15,
   "metadata": {},
   "outputs": [
    {
     "name": "stdout",
     "output_type": "stream",
     "text": [
      "6\n"
     ]
    }
   ],
   "source": [
    "def factorial(n):\n",
    "    if n == 0 or n == 1:  # Base Case\n",
    "        return 1\n",
    "    return n * factorial(n - 1)  # Recursive Call\n",
    "\n",
    "print(factorial(3)) "
   ]
  },
  {
   "cell_type": "code",
   "execution_count": 10,
   "metadata": {},
   "outputs": [
    {
     "name": "stdout",
     "output_type": "stream",
     "text": [
      "8\n"
     ]
    }
   ],
   "source": [
    "def fibonacci(n):\n",
    "    if n == 0:  # Base Case\n",
    "        return 0\n",
    "    elif n == 1:\n",
    "        return 1\n",
    "    return fibonacci(n-1) + fibonacci(n-2)\n",
    "\n",
    "print(fibonacci(6))  # Output: 8"
   ]
  },
  {
   "cell_type": "markdown",
   "metadata": {},
   "source": [
    "## Data Structures in Python"
   ]
  },
  {
   "cell_type": "code",
   "execution_count": 17,
   "metadata": {},
   "outputs": [
    {
     "name": "stdout",
     "output_type": "stream",
     "text": [
      "['apple', 'banana', 'cherry', 'cherry', 'mango']\n"
     ]
    }
   ],
   "source": [
    "fruits = [\"apple\", \"banana\", \"cherry\",\"cherry\"]\n",
    "fruits.append(\"mango\")\n",
    "print(fruits)"
   ]
  },
  {
   "cell_type": "code",
   "execution_count": 24,
   "metadata": {},
   "outputs": [
    {
     "data": {
      "text/plain": [
       "'cherry'"
      ]
     },
     "execution_count": 24,
     "metadata": {},
     "output_type": "execute_result"
    }
   ],
   "source": [
    "fruits[2]"
   ]
  },
  {
   "cell_type": "code",
   "execution_count": 12,
   "metadata": {},
   "outputs": [
    {
     "name": "stdout",
     "output_type": "stream",
     "text": [
      "X: 5\n"
     ]
    }
   ],
   "source": [
    "point = (5, 10)\n",
    "print(\"X:\", point[0])"
   ]
  },
  {
   "cell_type": "code",
   "execution_count": 25,
   "metadata": {},
   "outputs": [
    {
     "name": "stdout",
     "output_type": "stream",
     "text": [
      "AA\n"
     ]
    }
   ],
   "source": [
    "student = {\"name\": \"AA\", \"age\": 25}\n",
    "print(student[\"name\"])\n",
    "student[\"grade\"] = \"A\""
   ]
  },
  {
   "cell_type": "code",
   "execution_count": 26,
   "metadata": {},
   "outputs": [
    {
     "data": {
      "text/plain": [
       "{'name': 'AA', 'age': 25, 'grade': 'A'}"
      ]
     },
     "execution_count": 26,
     "metadata": {},
     "output_type": "execute_result"
    }
   ],
   "source": [
    "student"
   ]
  },
  {
   "cell_type": "markdown",
   "metadata": {},
   "source": [
    "### One Fun Use Case of Dictionaries\n",
    "\n",
    "The two sum problem is when you have a list of integers and you input an integer and now you have to return the index of the two integets within the list whose sum is equal to the integer you input\n",
    "\n",
    "- Example:\n",
    "   There is a list [2,7,11,15] and the number 9 now I know 2+7 from the list gives 9 so I want to return 0,1 which is it's index"
   ]
  },
  {
   "cell_type": "code",
   "execution_count": 27,
   "metadata": {},
   "outputs": [
    {
     "name": "stdout",
     "output_type": "stream",
     "text": [
      "[0, 1]\n"
     ]
    }
   ],
   "source": [
    "def two_sum(nums, target):\n",
    "    n = len(nums)\n",
    "    for i in range(n):\n",
    "        for j in range(i + 1, n):\n",
    "            if nums[i] + nums[j] == target:\n",
    "                return [i, j]\n",
    "    return None  # If no solution found\n",
    "\n",
    "# Example Usage\n",
    "nums = [2, 7, 11, 15]\n",
    "target = 9\n",
    "print(two_sum(nums, target))"
   ]
  },
  {
   "cell_type": "code",
   "execution_count": 15,
   "metadata": {},
   "outputs": [
    {
     "name": "stdout",
     "output_type": "stream",
     "text": [
      "[0, 1]\n"
     ]
    }
   ],
   "source": [
    "def two_sum(nums, target):\n",
    "    lookup = {}\n",
    "    for i, num in enumerate(nums):\n",
    "        if target - num in lookup:\n",
    "            return [lookup[target - num], i]\n",
    "        lookup[num] = i\n",
    "        \n",
    "        \n",
    "print(two_sum([2, 7, 11, 15], 9))"
   ]
  },
  {
   "cell_type": "markdown",
   "metadata": {},
   "source": [
    "## String Operation!!"
   ]
  },
  {
   "cell_type": "code",
   "execution_count": 17,
   "metadata": {},
   "outputs": [
    {
     "name": "stdout",
     "output_type": "stream",
     "text": [
      "Original Text: '   Hello World! Welcome to Python.  '\n",
      "\n",
      "Length: 36\n",
      "First character:  \n",
      "Substring (1:5):   He\n",
      "\n",
      "Lowercase:    hello world! welcome to python.  \n",
      "Uppercase:    HELLO WORLD! WELCOME TO PYTHON.  \n",
      "Swapcase:    hELLO wORLD! wELCOME TO pYTHON.  \n",
      "\n",
      "Find 'World': 9\n",
      "Count 'o': 5\n",
      "Replace 'World' with 'Ruchira':    Hello Ruchira! Welcome to Python.  \n",
      "\n",
      "Strip Spaces: Hello World! Welcome to Python.\n",
      "Left Strip: Hello World! Welcome to Python.  \n",
      "Right Strip:    Hello World! Welcome to Python.\n",
      "Zfill (width 30): Hello World! Welcome to Python.\n",
      "Left Justified (width 30): Hello World! Welcome to Python.\n",
      "Right Justified (width 30): Hello World! Welcome to Python.\n",
      "Centered (width 30): Hello World! Welcome to Python.\n",
      "\n",
      "Split into Words: ['Hello', 'World!', 'Welcome', 'to', 'Python.']\n",
      "Join with '-': Hello-World!-Welcome-to-Python.\n",
      "\n",
      "Is Alpha: False\n",
      "Is Digit: False\n",
      "Is Alnum: True\n",
      "Is Lower: False\n",
      "Is Upper: False\n",
      "Is Space Only: True\n",
      "\n",
      "Starts with 'Hello': True\n",
      "Ends with 'Python.': True\n",
      "\n"
     ]
    }
   ],
   "source": [
    "# Original String\n",
    "text = \"   Hello World! Welcome to Python.  \"\n",
    "print(\"Original Text:\", repr(text))\n",
    "print()\n",
    "\n",
    "# Length & Indexing\n",
    "print(\"Length:\", len(text))\n",
    "print(\"First character:\", text[0])\n",
    "print(\"Substring (1:5):\", text[1:5])\n",
    "print()\n",
    "\n",
    "# Case Conversion\n",
    "print(\"Lowercase:\", text.lower())\n",
    "print(\"Uppercase:\", text.upper())\n",
    "\n",
    "print(\"Swapcase:\", text.swapcase())\n",
    "print()\n",
    "\n",
    "# Searching & Replacing\n",
    "print(\"Find 'World':\", text.find('World'))\n",
    "print(\"Count 'o':\", text.count('o'))\n",
    "print(\"Replace 'World' with 'Ruchira':\", text.replace('World', 'Ruchira'))\n",
    "print()\n",
    "\n",
    "# Strip & Padding\n",
    "print(\"Strip Spaces:\", text.strip())\n",
    "print(\"Left Strip:\", text.lstrip())\n",
    "print(\"Right Strip:\", text.rstrip())\n",
    "print(\"Zfill (width 30):\", text.strip().zfill(30))\n",
    "print(\"Left Justified (width 30):\", text.strip().ljust(30, '-'))\n",
    "print(\"Right Justified (width 30):\", text.strip().rjust(30, '-'))\n",
    "print(\"Centered (width 30):\", text.strip().center(30, '*'))\n",
    "print()\n",
    "\n",
    "# Splitting & Joining\n",
    "words = text.strip().split()\n",
    "print(\"Split into Words:\", words)\n",
    "print(\"Join with '-':\", '-'.join(words))\n",
    "print()\n",
    "\n",
    "# Validation Methods\n",
    "check_str = \"Python123\"\n",
    "print(\"Is Alpha:\", check_str.isalpha())\n",
    "print(\"Is Digit:\", check_str.isdigit())\n",
    "print(\"Is Alnum:\", check_str.isalnum())\n",
    "print(\"Is Lower:\", check_str.islower())\n",
    "print(\"Is Upper:\", check_str.isupper())\n",
    "print(\"Is Space Only:\", \"   \".isspace())\n",
    "print()\n",
    "\n",
    "# Startswith & Endswith\n",
    "print(\"Starts with 'Hello':\", text.strip().startswith('Hello'))\n",
    "print(\"Ends with 'Python.':\", text.strip().endswith('Python.'))\n",
    "print()\n",
    "\n"
   ]
  },
  {
   "cell_type": "code",
   "execution_count": 4,
   "metadata": {},
   "outputs": [
    {
     "name": "stdout",
     "output_type": "stream",
     "text": [
      "Split into Words: ['', '', '', 'Hello', 'World!', 'Welcome', 'to', 'Python.', '', '']\n"
     ]
    }
   ],
   "source": [
    "# Splitting & Joining\n",
    "text = \"   Hello World! Welcome to Python.  \"\n",
    "words = text.split(' ')\n",
    "print(\"Split into Words:\", words)"
   ]
  },
  {
   "cell_type": "code",
   "execution_count": 5,
   "metadata": {},
   "outputs": [
    {
     "name": "stdout",
     "output_type": "stream",
     "text": [
      "Split into Words: ['Hi', 'There']\n"
     ]
    }
   ],
   "source": [
    "# Splitting & Joining\n",
    "text = \"Hi!There\"\n",
    "words = text.split('!')\n",
    "print(\"Split into Words:\", words)"
   ]
  }
 ],
 "metadata": {
  "kernelspec": {
   "display_name": "Python 3",
   "language": "python",
   "name": "python3"
  },
  "language_info": {
   "codemirror_mode": {
    "name": "ipython",
    "version": 3
   },
   "file_extension": ".py",
   "mimetype": "text/x-python",
   "name": "python",
   "nbconvert_exporter": "python",
   "pygments_lexer": "ipython3",
   "version": "3.7.4"
  }
 },
 "nbformat": 4,
 "nbformat_minor": 2
}
