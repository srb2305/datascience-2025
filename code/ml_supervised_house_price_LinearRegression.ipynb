{
 "cells": [
  {
   "cell_type": "markdown",
   "id": "733de435-a7bf-4275-bfb0-2676f4c6d1fe",
   "metadata": {},
   "source": [
    "# Example: Predicting House Prices # \n",
    "*We'll use a simple linear regression model to predict house prices based on features like number of bedrooms and square footage.*\n"
   ]
  },
  {
   "cell_type": "code",
   "execution_count": 15,
   "id": "1ac940f0-50ff-4519-937a-26058903bb18",
   "metadata": {},
   "outputs": [
    {
     "name": "stdout",
     "output_type": "stream",
     "text": [
      "Mean Squared Error: 142739927.56903905\n",
      "Predicted Price: $2,397,340.43\n"
     ]
    }
   ],
   "source": [
    "#Code\n",
    "\n",
    "# Import necessary libraries\n",
    "from sklearn.model_selection import train_test_split\n",
    "from sklearn.linear_model import LinearRegression\n",
    "from sklearn.metrics import mean_squared_error\n",
    "import pandas as pd\n",
    "import numpy as np\n",
    "\n",
    "# Create a sample dataset\n",
    "data = {\n",
    "    'Bedrooms': [2, 4, 5, 4, 5, 4, 1, 2, 3, 3],\n",
    "    'SqFt': [1000, 2000, 2500, 1800, 3000, 2200, 800, 1200, 1500, 1600],\n",
    "    'Price': [2000000, 4000000, 5000000, 3500000, 6000000, 4500000, 1500000, 2500000, 3000000, 3200000]\n",
    "}\n",
    "\n",
    "df = pd.DataFrame(data)\n",
    "\n",
    "# Define features (X) and target variable (y)\n",
    "X = df[['Bedrooms', 'SqFt']]\n",
    "y = df['Price']\n",
    "\n",
    "# Split data into training and testing sets\n",
    "X_train, X_test, y_train, y_test = train_test_split(X, y, test_size=0.2, random_state=42)\n",
    "\n",
    "# Create and train a linear regression model\n",
    "model = LinearRegression()\n",
    "model.fit(X_train, y_train)\n",
    "\n",
    "# Make predictions on the test set\n",
    "y_pred = model.predict(X_test)\n",
    "\n",
    "# Evaluate the model\n",
    "mse = mean_squared_error(y_test, y_pred) \n",
    "print(f'Mean Squared Error: {mse}')\n",
    "\n",
    "# Use the model to make a prediction\n",
    "new_house = pd.DataFrame([[2, 1200]], columns=['Bedrooms', 'SqFt'])  # 3 bedrooms, 2000 sqft\n",
    "predicted_price = model.predict(new_house)\n",
    "\n",
    "print(f'Predicted Price: ${predicted_price[0]:,.2f}')"
   ]
  },
  {
   "cell_type": "code",
   "execution_count": null,
   "id": "643c7f0f-bfda-4fa2-90d3-b53ee2c1f456",
   "metadata": {},
   "outputs": [],
   "source": []
  }
 ],
 "metadata": {
  "kernelspec": {
   "display_name": "Python 3 (ipykernel)",
   "language": "python",
   "name": "python3"
  },
  "language_info": {
   "codemirror_mode": {
    "name": "ipython",
    "version": 3
   },
   "file_extension": ".py",
   "mimetype": "text/x-python",
   "name": "python",
   "nbconvert_exporter": "python",
   "pygments_lexer": "ipython3",
   "version": "3.11.9"
  }
 },
 "nbformat": 4,
 "nbformat_minor": 5
}
