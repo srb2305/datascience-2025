{
 "cells": [
  {
   "cell_type": "markdown",
   "id": "470a9edc-a825-4f4d-a501-036e8c5f20b4",
   "metadata": {},
   "source": [
    "# Spam Classifier (Logistic Regression) #"
   ]
  },
  {
   "cell_type": "code",
   "execution_count": 12,
   "id": "62b2df24-ac21-4759-b2a0-2869a03492bb",
   "metadata": {},
   "outputs": [
    {
     "name": "stdout",
     "output_type": "stream",
     "text": [
      "Accuracy: 0.6666666666666666\n",
      "\n",
      "Classification Report:\n",
      "               precision    recall  f1-score   support\n",
      "\n",
      "           0       0.60      1.00      0.75         3\n",
      "           1       1.00      0.33      0.50         3\n",
      "\n",
      "    accuracy                           0.67         6\n",
      "   macro avg       0.80      0.67      0.62         6\n",
      "weighted avg       0.80      0.67      0.62         6\n",
      "\n",
      "Email: 'Limited offer, click to win!' → Spam\n",
      "Email: 'Project deadline is tomorrow' → Not Spam\n",
      "Email: 'Free recharge coupon just for you' → Not Spam\n"
     ]
    }
   ],
   "source": [
    "# Step 1: Import libraries\n",
    "from sklearn.feature_extraction.text import CountVectorizer\n",
    "from sklearn.linear_model import LogisticRegression\n",
    "from sklearn.model_selection import train_test_split\n",
    "from sklearn.metrics import accuracy_score, classification_report\n",
    "\n",
    "# Step 2: Example dataset\n",
    "emails = [\n",
    "    \"Win money now!!! Claim your prize\",\n",
    "    \"Meeting at 5 PM with project team\",\n",
    "    \"Free vacation offer, limited time\",\n",
    "    \"Your invoice for last month\",\n",
    "    \"Congratulations, you won a lottery\",\n",
    "    \"Let’s schedule lunch tomorrow\",\n",
    "    \"Click here to get free coupons\",\n",
    "    \"Reminder: your electricity bill is due\"\n",
    "]\n",
    "\n",
    "labels = [1, 0, 1, 0, 1, 0, 1, 0]  \n",
    "# 1 = Spam, 0 = Not Spam\n",
    "\n",
    "# Step 3: Convert text to numerical features\n",
    "vectorizer = CountVectorizer()\n",
    "X = vectorizer.fit_transform(emails)\n",
    "\n",
    "# Step 4: Train/Test Split\n",
    "X_train, X_test, y_train, y_test = train_test_split(X, labels, test_size=0.75, random_state=42)\n",
    "\n",
    "# Step 5: Train Model (Logistic Regression)\n",
    "model = LogisticRegression()\n",
    "model.fit(X_train, y_train)\n",
    "\n",
    "# Step 6: Make Predictions\n",
    "y_pred = model.predict(X_test)\n",
    "\n",
    "# Step 7: Evaluate\n",
    "print(\"Accuracy:\", accuracy_score(y_test, y_pred))\n",
    "print(\"\\nClassification Report:\\n\", classification_report(y_test, y_pred))\n",
    "\n",
    "# Step 8: Test with new emails\n",
    "new_emails = [\n",
    "    \"Limited offer, click to win!\",\n",
    "    \"Project deadline is tomorrow\",\n",
    "    \"Free recharge coupon just for you\"\n",
    "]\n",
    "\n",
    "X_new = vectorizer.transform(new_emails)\n",
    "predictions = model.predict(X_new)\n",
    "\n",
    "for email, pred in zip(new_emails, predictions):\n",
    "    print(f\"Email: '{email}' → {'Spam' if pred == 1 else 'Not Spam'}\")\n"
   ]
  },
  {
   "cell_type": "code",
   "execution_count": null,
   "id": "73449abe-525b-40e5-b742-29138ae44bcf",
   "metadata": {},
   "outputs": [],
   "source": []
  }
 ],
 "metadata": {
  "kernelspec": {
   "display_name": "Python 3 (ipykernel)",
   "language": "python",
   "name": "python3"
  },
  "language_info": {
   "codemirror_mode": {
    "name": "ipython",
    "version": 3
   },
   "file_extension": ".py",
   "mimetype": "text/x-python",
   "name": "python",
   "nbconvert_exporter": "python",
   "pygments_lexer": "ipython3",
   "version": "3.11.9"
  }
 },
 "nbformat": 4,
 "nbformat_minor": 5
}
