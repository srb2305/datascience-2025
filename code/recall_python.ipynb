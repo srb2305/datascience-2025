{
 "cells": [
  {
   "cell_type": "code",
   "execution_count": 4,
   "id": "137c42c0-ba4d-48ff-bdee-706bd2fb8ab9",
   "metadata": {},
   "outputs": [
    {
     "name": "stdout",
     "output_type": "stream",
     "text": [
      "mylist= [1, 2, 4, 6, 6, 2, 15]\n",
      "mytuple= (2, 5, 6, 2, 9, 8, 9)\n",
      "my_dict2= {1, 2, 3, 4, 8, 9}\n",
      "set {1, 2, 4, 6, 15}\n"
     ]
    }
   ],
   "source": [
    "mylist =  [1,2,4,6, 6 , 2]  #list mutable, \n",
    "\n",
    "mytuple =   (2,5,6,2,9,8, 9) #tuples immutable\n",
    "\n",
    "mylist.append(15)\n",
    "# mytuple.append(15) #error\n",
    "\n",
    "\n",
    "my_dict = {'name':'ram', 'age':30}\n",
    "my_dict2 = {1,9,8,2,3,4, 2, 4}\n",
    "\n",
    "\n",
    "print('mylist=', mylist)\n",
    "print('mytuple=', mytuple)\n",
    "print('my_dict2=', my_dict2)\n",
    "print('set', set(mylist))"
   ]
  },
  {
   "cell_type": "code",
   "execution_count": null,
   "id": "d9259890-fcb6-4155-a57f-540b07840eb6",
   "metadata": {},
   "outputs": [],
   "source": [
    "class Mathametics:\n",
    "    def add(a,b):\n",
    "        print(a+b)\n",
    "\n",
    "    def add(a,b,c):\n",
    "        print(a+b)    \n",
    "\n",
    "\n",
    "class Animal:\n",
    "    def sound(self):\n",
    "        print(\"any sound\")\n",
    "     def add(a,b):\n",
    "        print(a+b)\n",
    "\n",
    "\n",
    "d = Mathametics()\n",
    "d.add(5,6)\n",
    "d.add(5,6, 6)\n",
    "\n",
    "\n",
    "\n",
    "b = Animal()\n",
    "b.sound()\n",
    "\n",
    "final void display()\n",
    "\n",
    "try:\n",
    "    num = 10/0;\n",
    "except:\n",
    "    print(\"sonthing wenbt wrong\")\n",
    "except ValueError:\n",
    "    print(\"convertion failed\")\n",
    "except ZeroDivesionError:\n",
    "    pirnt(\"divide by 0\")\n",
    "finally:\n",
    "    (\"always run\")\n",
    "\n",
    "          "
   ]
  }
 ],
 "metadata": {
  "kernelspec": {
   "display_name": "Python 3 (ipykernel)",
   "language": "python",
   "name": "python3"
  },
  "language_info": {
   "codemirror_mode": {
    "name": "ipython",
    "version": 3
   },
   "file_extension": ".py",
   "mimetype": "text/x-python",
   "name": "python",
   "nbconvert_exporter": "python",
   "pygments_lexer": "ipython3",
   "version": "3.11.9"
  }
 },
 "nbformat": 4,
 "nbformat_minor": 5
}
