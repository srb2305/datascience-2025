{
 "cells": [
  {
   "cell_type": "markdown",
   "id": "edb43b7a-e1c3-4cb8-bf4f-d65d60776269",
   "metadata": {},
   "source": [
    "# 📌 Python Program: Random Forest Classifier #"
   ]
  },
  {
   "cell_type": "code",
   "execution_count": 18,
   "id": "04937c59-ba27-42f6-8d3d-bdc937c852b6",
   "metadata": {},
   "outputs": [
    {
     "name": "stdout",
     "output_type": "stream",
     "text": [
      "Accuracy: 1.0\n",
      "Predicted Class: setosa\n"
     ]
    }
   ],
   "source": [
    "# Step 1: Import libraries\n",
    "\n",
    "from sklearn.datasets import load_iris\n",
    "from sklearn.model_selection import train_test_split\n",
    "from sklearn.ensemble import RandomForestClassifier\n",
    "from sklearn.metrics import accuracy_score\n",
    "\n",
    "# Step 2: Load dataset\n",
    "iris = load_iris()\n",
    "\n",
    "X = iris.data        # features (sepal length, width, petal length, width)\n",
    "y = iris.target      # labels (flower species)\n",
    "\n",
    "# print(iris)\n",
    "\n",
    "# Step 3: Split dataset into training & testing (80% train, 20% test)\n",
    "X_train, X_test, y_train, y_test = train_test_split(X, y, test_size=0.2, random_state=42)\n",
    "\n",
    "# Step 4: Create Random Forest model\n",
    "model = RandomForestClassifier(n_estimators=100, random_state=42)  \n",
    "# n_estimators = number of trees in forest\n",
    "\n",
    "# Step 5: Train the model\n",
    "model.fit(X_train, y_train)\n",
    "\n",
    "# Step 6: Predict on test data\n",
    "y_pred = model.predict(X_test)\n",
    "\n",
    "# Step 7: Check accuracy\n",
    "accuracy = accuracy_score(y_test, y_pred)\n",
    "print(\"Accuracy:\", accuracy)\n",
    "\n",
    "# Step 8: Predict on new data (example)\n",
    "sample = [[5.1, 3.5, 1.4, 0.2]]  # sepal length, width, petal length, width\n",
    "print(\"Predicted Class:\", iris.target_names[model.predict(sample)][0])\n"
   ]
  },
  {
   "cell_type": "code",
   "execution_count": null,
   "id": "f0ecfb72-08f1-42da-9edc-aa3706115827",
   "metadata": {},
   "outputs": [],
   "source": []
  }
 ],
 "metadata": {
  "kernelspec": {
   "display_name": "Python 3 (ipykernel)",
   "language": "python",
   "name": "python3"
  },
  "language_info": {
   "codemirror_mode": {
    "name": "ipython",
    "version": 3
   },
   "file_extension": ".py",
   "mimetype": "text/x-python",
   "name": "python",
   "nbconvert_exporter": "python",
   "pygments_lexer": "ipython3",
   "version": "3.11.9"
  }
 },
 "nbformat": 4,
 "nbformat_minor": 5
}
